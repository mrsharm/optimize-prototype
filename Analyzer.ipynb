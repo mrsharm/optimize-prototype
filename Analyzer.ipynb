{
 "cells": [
  {
   "attachments": {},
   "cell_type": "markdown",
   "metadata": {},
   "source": [
    "# Analyzer"
   ]
  },
  {
   "cell_type": "code",
   "execution_count": 2,
   "metadata": {
    "dotnet_interactive": {
     "language": "csharp"
    },
    "polyglot_notebook": {
     "kernelName": "csharp"
    },
    "vscode": {
     "languageId": "polyglot-notebook"
    }
   },
   "outputs": [
    {
     "data": {
      "text/html": [
       "<div><div></div><div></div><div><strong>Installed Packages</strong><ul><li><span>Microsoft.Diagnostics.Tracing.TraceEvent, 3.1.4</span></li><li><span>Newtonsoft.Json, 13.0.3</span></li><li><span>XPlot.Plotly, 4.0.6</span></li><li><span>XPlot.Plotly.Interactive, 4.0.7</span></li></ul></div></div>"
      ]
     },
     "metadata": {},
     "output_type": "display_data"
    },
    {
     "data": {
      "text/plain": [
       "Loading extensions from `C:\\Users\\musharm\\.nuget\\packages\\xplot.plotly.interactive\\4.0.7\\interactive-extensions\\dotnet\\XPlot.Plotly.Interactive.dll`"
      ]
     },
     "metadata": {},
     "output_type": "display_data"
    },
    {
     "data": {
      "text/markdown": [
       "Configuring PowerShell Kernel for XPlot.Plotly integration."
      ]
     },
     "metadata": {},
     "output_type": "display_data"
    },
    {
     "data": {
      "text/markdown": [
       "Installed support for XPlot.Plotly."
      ]
     },
     "metadata": {},
     "output_type": "display_data"
    }
   ],
   "source": [
    "#r \"nuget:Newtonsoft.Json\"\n",
    "#r \"nuget: XPlot.Plotly\"\n",
    "#r \"nuget: XPlot.Plotly.Interactive\"\n",
    "#r \"nuget: Microsoft.Diagnostics.Tracing.TraceEvent\"\n",
    "\n",
    "using XPlot.Plotly;\n",
    "using System.IO;\n",
    "using Etlx = Microsoft.Diagnostics.Tracing.Etlx;\n",
    "using Newtonsoft.Json;\n",
    "using Microsoft.Diagnostics.Tracing;\n",
    "using Microsoft.Diagnostics.Tracing.Analysis;"
   ]
  },
  {
   "cell_type": "code",
   "execution_count": 3,
   "metadata": {
    "dotnet_interactive": {
     "language": "csharp"
    },
    "polyglot_notebook": {
     "kernelName": "csharp"
    },
    "vscode": {
     "languageId": "polyglot-notebook"
    }
   },
   "outputs": [],
   "source": [
    "// Root myDeserializedClass = JsonConvert.DeserializeObject<List<Root>>(myJsonResponse);\n",
    "public class Datetime\n",
    "{\n",
    "    public string datetime { get; set; }\n",
    "    public double elapsed { get; set; }\n",
    "    public double delta { get; set; }\n",
    "}\n",
    "\n",
    "public class Params\n",
    "{\n",
    "    public double loh { get; set; }\n",
    "}\n",
    "\n",
    "public class Root2\n",
    "{\n",
    "    public double target { get; set; }\n",
    "    public Params @params { get; set; }\n",
    "    public Datetime datetime { get; set; }\n",
    "}"
   ]
  },
  {
   "attachments": {},
   "cell_type": "markdown",
   "metadata": {},
   "source": [
    "## MWaitX Pivot"
   ]
  },
  {
   "cell_type": "code",
   "execution_count": 4,
   "metadata": {
    "dotnet_interactive": {
     "language": "csharp"
    },
    "polyglot_notebook": {
     "kernelName": "csharp"
    },
    "vscode": {
     "languageId": "polyglot-notebook"
    }
   },
   "outputs": [
    {
     "data": {
      "text/html": [
       "<table><thead><tr><th><i>index</i></th><th>value</th></tr></thead><tbody><tr><td>0</td><td><details class=\"dni-treeview\"><summary><span class=\"dni-code-hint\"><code>Submission#4+Root2</code></span></summary><div><table><thead><tr></tr></thead><tbody><tr><td>target</td><td><div class=\"dni-plaintext\"><pre>-60.30837284959359</pre></div></td></tr><tr><td>params</td><td><details class=\"dni-treeview\"><summary><span class=\"dni-code-hint\"><code>Submission#4+Params</code></span></summary><div><table><thead><tr></tr></thead><tbody><tr><td>loh</td><td><div class=\"dni-plaintext\"><pre>845703.5693110966</pre></div></td></tr></tbody></table></div></details></td></tr><tr><td>datetime</td><td><details class=\"dni-treeview\"><summary><span class=\"dni-code-hint\"><code>Submission#4+Datetime</code></span></summary><div><table><thead><tr></tr></thead><tbody><tr><td>datetime</td><td><div class=\"dni-plaintext\"><pre>2023-08-22 01:41:29</pre></div></td></tr><tr><td>elapsed</td><td><div class=\"dni-plaintext\"><pre>0</pre></div></td></tr><tr><td>delta</td><td><div class=\"dni-plaintext\"><pre>0</pre></div></td></tr></tbody></table></div></details></td></tr></tbody></table></div></details></td></tr><tr><td>1</td><td><details class=\"dni-treeview\"><summary><span class=\"dni-code-hint\"><code>Submission#4+Root2</code></span></summary><div><table><thead><tr></tr></thead><tbody><tr><td>target</td><td><div class=\"dni-plaintext\"><pre>-59.92641181596565</pre></div></td></tr><tr><td>params</td><td><details class=\"dni-treeview\"><summary><span class=\"dni-code-hint\"><code>Submission#4+Params</code></span></summary><div><table><thead><tr></tr></thead><tbody><tr><td>loh</td><td><div class=\"dni-plaintext\"><pre>1505584.831541302</pre></div></td></tr></tbody></table></div></details></td></tr><tr><td>datetime</td><td><details class=\"dni-treeview\"><summary><span class=\"dni-code-hint\"><code>Submission#4+Datetime</code></span></summary><div><table><thead><tr></tr></thead><tbody><tr><td>datetime</td><td><div class=\"dni-plaintext\"><pre>2023-08-22 01:43:23</pre></div></td></tr><tr><td>elapsed</td><td><div class=\"dni-plaintext\"><pre>113.118825</pre></div></td></tr><tr><td>delta</td><td><div class=\"dni-plaintext\"><pre>113.118825</pre></div></td></tr></tbody></table></div></details></td></tr></tbody></table></div></details></td></tr><tr><td>2</td><td><details class=\"dni-treeview\"><summary><span class=\"dni-code-hint\"><code>Submission#4+Root2</code></span></summary><div><table><thead><tr></tr></thead><tbody><tr><td>target</td><td><div class=\"dni-plaintext\"><pre>-60.3714290156861</pre></div></td></tr><tr><td>params</td><td><details class=\"dni-treeview\"><summary><span class=\"dni-code-hint\"><code>Submission#4+Params</code></span></summary><div><table><thead><tr></tr></thead><tbody><tr><td>loh</td><td><div class=\"dni-plaintext\"><pre>1664170.2113924464</pre></div></td></tr></tbody></table></div></details></td></tr><tr><td>datetime</td><td><details class=\"dni-treeview\"><summary><span class=\"dni-code-hint\"><code>Submission#4+Datetime</code></span></summary><div><table><thead><tr></tr></thead><tbody><tr><td>datetime</td><td><div class=\"dni-plaintext\"><pre>2023-08-22 01:45:07</pre></div></td></tr><tr><td>elapsed</td><td><div class=\"dni-plaintext\"><pre>217.234271</pre></div></td></tr><tr><td>delta</td><td><div class=\"dni-plaintext\"><pre>104.115446</pre></div></td></tr></tbody></table></div></details></td></tr></tbody></table></div></details></td></tr><tr><td>3</td><td><details class=\"dni-treeview\"><summary><span class=\"dni-code-hint\"><code>Submission#4+Root2</code></span></summary><div><table><thead><tr></tr></thead><tbody><tr><td>target</td><td><div class=\"dni-plaintext\"><pre>-59.69541430344472</pre></div></td></tr><tr><td>params</td><td><details class=\"dni-treeview\"><summary><span class=\"dni-code-hint\"><code>Submission#4+Params</code></span></summary><div><table><thead><tr></tr></thead><tbody><tr><td>loh</td><td><div class=\"dni-plaintext\"><pre>1966100.895791654</pre></div></td></tr></tbody></table></div></details></td></tr><tr><td>datetime</td><td><details class=\"dni-treeview\"><summary><span class=\"dni-code-hint\"><code>Submission#4+Datetime</code></span></summary><div><table><thead><tr></tr></thead><tbody><tr><td>datetime</td><td><div class=\"dni-plaintext\"><pre>2023-08-22 01:46:53</pre></div></td></tr><tr><td>elapsed</td><td><div class=\"dni-plaintext\"><pre>323.196132</pre></div></td></tr><tr><td>delta</td><td><div class=\"dni-plaintext\"><pre>105.961861</pre></div></td></tr></tbody></table></div></details></td></tr></tbody></table></div></details></td></tr><tr><td>4</td><td><details class=\"dni-treeview\"><summary><span class=\"dni-code-hint\"><code>Submission#4+Root2</code></span></summary><div><table><thead><tr></tr></thead><tbody><tr><td>target</td><td><div class=\"dni-plaintext\"><pre>-53.08343790614695</pre></div></td></tr><tr><td>params</td><td><details class=\"dni-treeview\"><summary><span class=\"dni-code-hint\"><code>Submission#4+Params</code></span></summary><div><table><thead><tr></tr></thead><tbody><tr><td>loh</td><td><div class=\"dni-plaintext\"><pre>24294.286643565716</pre></div></td></tr></tbody></table></div></details></td></tr><tr><td>datetime</td><td><details class=\"dni-treeview\"><summary><span class=\"dni-code-hint\"><code>Submission#4+Datetime</code></span></summary><div><table><thead><tr></tr></thead><tbody><tr><td>datetime</td><td><div class=\"dni-plaintext\"><pre>2023-08-22 01:48:49</pre></div></td></tr><tr><td>elapsed</td><td><div class=\"dni-plaintext\"><pre>439.470104</pre></div></td></tr><tr><td>delta</td><td><div class=\"dni-plaintext\"><pre>116.273972</pre></div></td></tr></tbody></table></div></details></td></tr></tbody></table></div></details></td></tr><tr><td>5</td><td><details class=\"dni-treeview\"><summary><span class=\"dni-code-hint\"><code>Submission#4+Root2</code></span></summary><div><table><thead><tr></tr></thead><tbody><tr><td>target</td><td><div class=\"dni-plaintext\"><pre>-53.38222017148877</pre></div></td></tr><tr><td>params</td><td><details class=\"dni-treeview\"><summary><span class=\"dni-code-hint\"><code>Submission#4+Params</code></span></summary><div><table><thead><tr></tr></thead><tbody><tr><td>loh</td><td><div class=\"dni-plaintext\"><pre>24305.387394832378</pre></div></td></tr></tbody></table></div></details></td></tr><tr><td>datetime</td><td><details class=\"dni-treeview\"><summary><span class=\"dni-code-hint\"><code>Submission#4+Datetime</code></span></summary><div><table><thead><tr></tr></thead><tbody><tr><td>datetime</td><td><div class=\"dni-plaintext\"><pre>2023-08-22 01:50:46</pre></div></td></tr><tr><td>elapsed</td><td><div class=\"dni-plaintext\"><pre>556.864372</pre></div></td></tr><tr><td>delta</td><td><div class=\"dni-plaintext\"><pre>117.394268</pre></div></td></tr></tbody></table></div></details></td></tr></tbody></table></div></details></td></tr><tr><td>6</td><td><details class=\"dni-treeview\"><summary><span class=\"dni-code-hint\"><code>Submission#4+Root2</code></span></summary><div><table><thead><tr></tr></thead><tbody><tr><td>target</td><td><div class=\"dni-plaintext\"><pre>-53.465453662035145</pre></div></td></tr><tr><td>params</td><td><details class=\"dni-treeview\"><summary><span class=\"dni-code-hint\"><code>Submission#4+Params</code></span></summary><div><table><thead><tr></tr></thead><tbody><tr><td>loh</td><td><div class=\"dni-plaintext\"><pre>23868.84234787671</pre></div></td></tr></tbody></table></div></details></td></tr><tr><td>datetime</td><td><details class=\"dni-treeview\"><summary><span class=\"dni-code-hint\"><code>Submission#4+Datetime</code></span></summary><div><table><thead><tr></tr></thead><tbody><tr><td>datetime</td><td><div class=\"dni-plaintext\"><pre>2023-08-22 01:52:42</pre></div></td></tr><tr><td>elapsed</td><td><div class=\"dni-plaintext\"><pre>672.624283</pre></div></td></tr><tr><td>delta</td><td><div class=\"dni-plaintext\"><pre>115.759911</pre></div></td></tr></tbody></table></div></details></td></tr></tbody></table></div></details></td></tr><tr><td>7</td><td><details class=\"dni-treeview\"><summary><span class=\"dni-code-hint\"><code>Submission#4+Root2</code></span></summary><div><table><thead><tr></tr></thead><tbody><tr><td>target</td><td><div class=\"dni-plaintext\"><pre>-54.33765027233887</pre></div></td></tr><tr><td>params</td><td><details class=\"dni-treeview\"><summary><span class=\"dni-code-hint\"><code>Submission#4+Params</code></span></summary><div><table><thead><tr></tr></thead><tbody><tr><td>loh</td><td><div class=\"dni-plaintext\"><pre>24075.013176102868</pre></div></td></tr></tbody></table></div></details></td></tr><tr><td>datetime</td><td><details class=\"dni-treeview\"><summary><span class=\"dni-code-hint\"><code>Submission#4+Datetime</code></span></summary><div><table><thead><tr></tr></thead><tbody><tr><td>datetime</td><td><div class=\"dni-plaintext\"><pre>2023-08-22 01:54:38</pre></div></td></tr><tr><td>elapsed</td><td><div class=\"dni-plaintext\"><pre>788.318656</pre></div></td></tr><tr><td>delta</td><td><div class=\"dni-plaintext\"><pre>115.694373</pre></div></td></tr></tbody></table></div></details></td></tr></tbody></table></div></details></td></tr><tr><td>8</td><td><details class=\"dni-treeview\"><summary><span class=\"dni-code-hint\"><code>Submission#4+Root2</code></span></summary><div><table><thead><tr></tr></thead><tbody><tr><td>target</td><td><div class=\"dni-plaintext\"><pre>-59.87977417421001</pre></div></td></tr><tr><td>params</td><td><details class=\"dni-treeview\"><summary><span class=\"dni-code-hint\"><code>Submission#4+Params</code></span></summary><div><table><thead><tr></tr></thead><tbody><tr><td>loh</td><td><div class=\"dni-plaintext\"><pre>269346.92191637564</pre></div></td></tr></tbody></table></div></details></td></tr><tr><td>datetime</td><td><details class=\"dni-treeview\"><summary><span class=\"dni-code-hint\"><code>Submission#4+Datetime</code></span></summary><div><table><thead><tr></tr></thead><tbody><tr><td>datetime</td><td><div class=\"dni-plaintext\"><pre>2023-08-22 01:56:23</pre></div></td></tr><tr><td>elapsed</td><td><div class=\"dni-plaintext\"><pre>893.309802</pre></div></td></tr><tr><td>delta</td><td><div class=\"dni-plaintext\"><pre>104.991146</pre></div></td></tr></tbody></table></div></details></td></tr></tbody></table></div></details></td></tr><tr><td>9</td><td><details class=\"dni-treeview\"><summary><span class=\"dni-code-hint\"><code>Submission#4+Root2</code></span></summary><div><table><thead><tr></tr></thead><tbody><tr><td>target</td><td><div class=\"dni-plaintext\"><pre>-54.28051003898058</pre></div></td></tr><tr><td>params</td><td><details class=\"dni-treeview\"><summary><span class=\"dni-code-hint\"><code>Submission#4+Params</code></span></summary><div><table><thead><tr></tr></thead><tbody><tr><td>loh</td><td><div class=\"dni-plaintext\"><pre>23618.82314997704</pre></div></td></tr></tbody></table></div></details></td></tr><tr><td>datetime</td><td><details class=\"dni-treeview\"><summary><span class=\"dni-code-hint\"><code>Submission#4+Datetime</code></span></summary><div><table><thead><tr></tr></thead><tbody><tr><td>datetime</td><td><div class=\"dni-plaintext\"><pre>2023-08-22 01:58:20</pre></div></td></tr><tr><td>elapsed</td><td><div class=\"dni-plaintext\"><pre>1010.230778</pre></div></td></tr><tr><td>delta</td><td><div class=\"dni-plaintext\"><pre>116.920976</pre></div></td></tr></tbody></table></div></details></td></tr></tbody></table></div></details></td></tr><tr><td>10</td><td><details class=\"dni-treeview\"><summary><span class=\"dni-code-hint\"><code>Submission#4+Root2</code></span></summary><div><table><thead><tr></tr></thead><tbody><tr><td>target</td><td><div class=\"dni-plaintext\"><pre>-55.86905454914704</pre></div></td></tr><tr><td>params</td><td><details class=\"dni-treeview\"><summary><span class=\"dni-code-hint\"><code>Submission#4+Params</code></span></summary><div><table><thead><tr></tr></thead><tbody><tr><td>loh</td><td><div class=\"dni-plaintext\"><pre>24078.60149584231</pre></div></td></tr></tbody></table></div></details></td></tr><tr><td>datetime</td><td><details class=\"dni-treeview\"><summary><span class=\"dni-code-hint\"><code>Submission#4+Datetime</code></span></summary><div><table><thead><tr></tr></thead><tbody><tr><td>datetime</td><td><div class=\"dni-plaintext\"><pre>2023-08-22 02:00:13</pre></div></td></tr><tr><td>elapsed</td><td><div class=\"dni-plaintext\"><pre>1123.382582</pre></div></td></tr><tr><td>delta</td><td><div class=\"dni-plaintext\"><pre>113.151804</pre></div></td></tr></tbody></table></div></details></td></tr></tbody></table></div></details></td></tr><tr><td>11</td><td><details class=\"dni-treeview\"><summary><span class=\"dni-code-hint\"><code>Submission#4+Root2</code></span></summary><div><table><thead><tr></tr></thead><tbody><tr><td>target</td><td><div class=\"dni-plaintext\"><pre>-54.00853374704392</pre></div></td></tr><tr><td>params</td><td><details class=\"dni-treeview\"><summary><span class=\"dni-code-hint\"><code>Submission#4+Params</code></span></summary><div><table><thead><tr></tr></thead><tbody><tr><td>loh</td><td><div class=\"dni-plaintext\"><pre>23577.109765166588</pre></div></td></tr></tbody></table></div></details></td></tr><tr><td>datetime</td><td><details class=\"dni-treeview\"><summary><span class=\"dni-code-hint\"><code>Submission#4+Datetime</code></span></summary><div><table><thead><tr></tr></thead><tbody><tr><td>datetime</td><td><div class=\"dni-plaintext\"><pre>2023-08-22 02:02:12</pre></div></td></tr><tr><td>elapsed</td><td><div class=\"dni-plaintext\"><pre>1242.397431</pre></div></td></tr><tr><td>delta</td><td><div class=\"dni-plaintext\"><pre>119.014849</pre></div></td></tr></tbody></table></div></details></td></tr></tbody></table></div></details></td></tr><tr><td>12</td><td><details class=\"dni-treeview\"><summary><span class=\"dni-code-hint\"><code>Submission#4+Root2</code></span></summary><div><table><thead><tr></tr></thead><tbody><tr><td>target</td><td><div class=\"dni-plaintext\"><pre>-53.47758418226371</pre></div></td></tr><tr><td>params</td><td><details class=\"dni-treeview\"><summary><span class=\"dni-code-hint\"><code>Submission#4+Params</code></span></summary><div><table><thead><tr></tr></thead><tbody><tr><td>loh</td><td><div class=\"dni-plaintext\"><pre>24262.91736749827</pre></div></td></tr></tbody></table></div></details></td></tr><tr><td>datetime</td><td><details class=\"dni-treeview\"><summary><span class=\"dni-code-hint\"><code>Submission#4+Datetime</code></span></summary><div><table><thead><tr></tr></thead><tbody><tr><td>datetime</td><td><div class=\"dni-plaintext\"><pre>2023-08-22 02:04:10</pre></div></td></tr><tr><td>elapsed</td><td><div class=\"dni-plaintext\"><pre>1360.2222</pre></div></td></tr><tr><td>delta</td><td><div class=\"dni-plaintext\"><pre>117.824769</pre></div></td></tr></tbody></table></div></details></td></tr></tbody></table></div></details></td></tr><tr><td>13</td><td><details class=\"dni-treeview\"><summary><span class=\"dni-code-hint\"><code>Submission#4+Root2</code></span></summary><div><table><thead><tr></tr></thead><tbody><tr><td>target</td><td><div class=\"dni-plaintext\"><pre>-54.30746547048112</pre></div></td></tr><tr><td>params</td><td><details class=\"dni-treeview\"><summary><span class=\"dni-code-hint\"><code>Submission#4+Params</code></span></summary><div><table><thead><tr></tr></thead><tbody><tr><td>loh</td><td><div class=\"dni-plaintext\"><pre>24301.048648895772</pre></div></td></tr></tbody></table></div></details></td></tr><tr><td>datetime</td><td><details class=\"dni-treeview\"><summary><span class=\"dni-code-hint\"><code>Submission#4+Datetime</code></span></summary><div><table><thead><tr></tr></thead><tbody><tr><td>datetime</td><td><div class=\"dni-plaintext\"><pre>2023-08-22 02:06:05</pre></div></td></tr><tr><td>elapsed</td><td><div class=\"dni-plaintext\"><pre>1475.613911</pre></div></td></tr><tr><td>delta</td><td><div class=\"dni-plaintext\"><pre>115.391711</pre></div></td></tr></tbody></table></div></details></td></tr></tbody></table></div></details></td></tr><tr><td>14</td><td><details class=\"dni-treeview\"><summary><span class=\"dni-code-hint\"><code>Submission#4+Root2</code></span></summary><div><table><thead><tr></tr></thead><tbody><tr><td>target</td><td><div class=\"dni-plaintext\"><pre>-53.628577041258986</pre></div></td></tr><tr><td>params</td><td><details class=\"dni-treeview\"><summary><span class=\"dni-code-hint\"><code>Submission#4+Params</code></span></summary><div><table><thead><tr></tr></thead><tbody><tr><td>loh</td><td><div class=\"dni-plaintext\"><pre>24055.530588893846</pre></div></td></tr></tbody></table></div></details></td></tr><tr><td>datetime</td><td><details class=\"dni-treeview\"><summary><span class=\"dni-code-hint\"><code>Submission#4+Datetime</code></span></summary><div><table><thead><tr></tr></thead><tbody><tr><td>datetime</td><td><div class=\"dni-plaintext\"><pre>2023-08-22 02:08:01</pre></div></td></tr><tr><td>elapsed</td><td><div class=\"dni-plaintext\"><pre>1591.23513</pre></div></td></tr><tr><td>delta</td><td><div class=\"dni-plaintext\"><pre>115.621219</pre></div></td></tr></tbody></table></div></details></td></tr></tbody></table></div></details></td></tr><tr><td>15</td><td><details class=\"dni-treeview\"><summary><span class=\"dni-code-hint\"><code>Submission#4+Root2</code></span></summary><div><table><thead><tr></tr></thead><tbody><tr><td>target</td><td><div class=\"dni-plaintext\"><pre>-54.613227984154406</pre></div></td></tr><tr><td>params</td><td><details class=\"dni-treeview\"><summary><span class=\"dni-code-hint\"><code>Submission#4+Params</code></span></summary><div><table><thead><tr></tr></thead><tbody><tr><td>loh</td><td><div class=\"dni-plaintext\"><pre>24339.65990924386</pre></div></td></tr></tbody></table></div></details></td></tr><tr><td>datetime</td><td><details class=\"dni-treeview\"><summary><span class=\"dni-code-hint\"><code>Submission#4+Datetime</code></span></summary><div><table><thead><tr></tr></thead><tbody><tr><td>datetime</td><td><div class=\"dni-plaintext\"><pre>2023-08-22 02:09:56</pre></div></td></tr><tr><td>elapsed</td><td><div class=\"dni-plaintext\"><pre>1706.908981</pre></div></td></tr><tr><td>delta</td><td><div class=\"dni-plaintext\"><pre>115.673851</pre></div></td></tr></tbody></table></div></details></td></tr></tbody></table></div></details></td></tr><tr><td>16</td><td><details class=\"dni-treeview\"><summary><span class=\"dni-code-hint\"><code>Submission#4+Root2</code></span></summary><div><table><thead><tr></tr></thead><tbody><tr><td>target</td><td><div class=\"dni-plaintext\"><pre>-53.33492851197374</pre></div></td></tr><tr><td>params</td><td><details class=\"dni-treeview\"><summary><span class=\"dni-code-hint\"><code>Submission#4+Params</code></span></summary><div><table><thead><tr></tr></thead><tbody><tr><td>loh</td><td><div class=\"dni-plaintext\"><pre>24352.99255943999</pre></div></td></tr></tbody></table></div></details></td></tr><tr><td>datetime</td><td><details class=\"dni-treeview\"><summary><span class=\"dni-code-hint\"><code>Submission#4+Datetime</code></span></summary><div><table><thead><tr></tr></thead><tbody><tr><td>datetime</td><td><div class=\"dni-plaintext\"><pre>2023-08-22 02:11:56</pre></div></td></tr><tr><td>elapsed</td><td><div class=\"dni-plaintext\"><pre>1826.711763</pre></div></td></tr><tr><td>delta</td><td><div class=\"dni-plaintext\"><pre>119.802782</pre></div></td></tr></tbody></table></div></details></td></tr></tbody></table></div></details></td></tr><tr><td>17</td><td><details class=\"dni-treeview\"><summary><span class=\"dni-code-hint\"><code>Submission#4+Root2</code></span></summary><div><table><thead><tr></tr></thead><tbody><tr><td>target</td><td><div class=\"dni-plaintext\"><pre>-54.59205932298888</pre></div></td></tr><tr><td>params</td><td><details class=\"dni-treeview\"><summary><span class=\"dni-code-hint\"><code>Submission#4+Params</code></span></summary><div><table><thead><tr></tr></thead><tbody><tr><td>loh</td><td><div class=\"dni-plaintext\"><pre>23640.251201349805</pre></div></td></tr></tbody></table></div></details></td></tr><tr><td>datetime</td><td><details class=\"dni-treeview\"><summary><span class=\"dni-code-hint\"><code>Submission#4+Datetime</code></span></summary><div><table><thead><tr></tr></thead><tbody><tr><td>datetime</td><td><div class=\"dni-plaintext\"><pre>2023-08-22 02:13:52</pre></div></td></tr><tr><td>elapsed</td><td><div class=\"dni-plaintext\"><pre>1942.631236</pre></div></td></tr><tr><td>delta</td><td><div class=\"dni-plaintext\"><pre>115.919473</pre></div></td></tr></tbody></table></div></details></td></tr></tbody></table></div></details></td></tr><tr><td>18</td><td><details class=\"dni-treeview\"><summary><span class=\"dni-code-hint\"><code>Submission#4+Root2</code></span></summary><div><table><thead><tr></tr></thead><tbody><tr><td>target</td><td><div class=\"dni-plaintext\"><pre>-54.9138414839706</pre></div></td></tr><tr><td>params</td><td><details class=\"dni-treeview\"><summary><span class=\"dni-code-hint\"><code>Submission#4+Params</code></span></summary><div><table><thead><tr></tr></thead><tbody><tr><td>loh</td><td><div class=\"dni-plaintext\"><pre>23892.989188379546</pre></div></td></tr></tbody></table></div></details></td></tr><tr><td>datetime</td><td><details class=\"dni-treeview\"><summary><span class=\"dni-code-hint\"><code>Submission#4+Datetime</code></span></summary><div><table><thead><tr></tr></thead><tbody><tr><td>datetime</td><td><div class=\"dni-plaintext\"><pre>2023-08-22 02:15:47</pre></div></td></tr><tr><td>elapsed</td><td><div class=\"dni-plaintext\"><pre>2057.83107</pre></div></td></tr><tr><td>delta</td><td><div class=\"dni-plaintext\"><pre>115.199834</pre></div></td></tr></tbody></table></div></details></td></tr></tbody></table></div></details></td></tr><tr><td>19</td><td><details class=\"dni-treeview\"><summary><span class=\"dni-code-hint\"><code>Submission#4+Root2</code></span></summary><div><table><thead><tr></tr></thead><tbody><tr><td>target</td><td><div class=\"dni-plaintext\"><pre>-54.73634080601547</pre></div></td></tr><tr><td>params</td><td><details class=\"dni-treeview\"><summary><span class=\"dni-code-hint\"><code>Submission#4+Params</code></span></summary><div><table><thead><tr></tr></thead><tbody><tr><td>loh</td><td><div class=\"dni-plaintext\"><pre>24227.372193998915</pre></div></td></tr></tbody></table></div></details></td></tr><tr><td>datetime</td><td><details class=\"dni-treeview\"><summary><span class=\"dni-code-hint\"><code>Submission#4+Datetime</code></span></summary><div><table><thead><tr></tr></thead><tbody><tr><td>datetime</td><td><div class=\"dni-plaintext\"><pre>2023-08-22 02:17:42</pre></div></td></tr><tr><td>elapsed</td><td><div class=\"dni-plaintext\"><pre>2172.927231</pre></div></td></tr><tr><td>delta</td><td><div class=\"dni-plaintext\"><pre>115.096161</pre></div></td></tr></tbody></table></div></details></td></tr></tbody></table></div></details></td></tr><tr><td colspan=\"2\"><i>(11 more)</i></td></tr></tbody></table><style>\r\n",
       ".dni-code-hint {\r\n",
       "    font-style: italic;\r\n",
       "    overflow: hidden;\r\n",
       "    white-space: nowrap;\r\n",
       "}\r\n",
       ".dni-treeview {\r\n",
       "    white-space: nowrap;\r\n",
       "}\r\n",
       ".dni-treeview td {\r\n",
       "    vertical-align: top;\r\n",
       "    text-align: start;\r\n",
       "}\r\n",
       "details.dni-treeview {\r\n",
       "    padding-left: 1em;\r\n",
       "}\r\n",
       "table td {\r\n",
       "    text-align: start;\r\n",
       "}\r\n",
       "table tr { \r\n",
       "    vertical-align: top; \r\n",
       "    margin: 0em 0px;\r\n",
       "}\r\n",
       "table tr td pre \r\n",
       "{ \r\n",
       "    vertical-align: top !important; \r\n",
       "    margin: 0em 0px !important;\r\n",
       "} \r\n",
       "table th {\r\n",
       "    text-align: start;\r\n",
       "}\r\n",
       "</style>"
      ]
     },
     "metadata": {},
     "output_type": "display_data"
    }
   ],
   "source": [
    "var path = @\".\\Result_fixed.json\";\n",
    "\n",
    "List<Root2> data = new();\n",
    "\n",
    "var stringed = File.ReadAllText(path);\n",
    "var d = JsonConvert.DeserializeObject<List<Root2>>(stringed);\n",
    "d"
   ]
  },
  {
   "cell_type": "code",
   "execution_count": 5,
   "metadata": {
    "dotnet_interactive": {
     "language": "csharp"
    },
    "polyglot_notebook": {
     "kernelName": "csharp"
    },
    "vscode": {
     "languageId": "polyglot-notebook"
    }
   },
   "outputs": [],
   "source": [
    "void ChartComplexity(List<Root2> data)\n",
    "{\n",
    "    // optima.\n",
    "    var optimaY = d.Min(d => -d.target);\n",
    "    var optimaX = d.FirstOrDefault(g => g.target == -optimaY).@params.loh;\n",
    "\n",
    "    var layout = new Layout.Layout\n",
    "    {\n",
    "        xaxis = new Xaxis { title = \"LOH Limit\" },\n",
    "        yaxis = new Yaxis { title = $\"% Pause Time in GC\" },\n",
    "        title = $\"% Pause Time in GC vs. LOH Limit\", \n",
    "    };\n",
    "\n",
    "    var ordered = data.OrderBy(d => d.@params.loh);\n",
    "\n",
    "    var scatter = new Scatter\n",
    "    {\n",
    "        x = ordered.Select(y => (y.@params.loh)), \n",
    "        y = ordered.Select(y => -y.target), \n",
    "        mode = \"markers+lines\",\n",
    "        name = \"Baseline - Explored Points\"\n",
    "    };\n",
    "\n",
    "    Chart.Plot(new [] { scatter }, layout).Display();\n",
    "}"
   ]
  },
  {
   "cell_type": "code",
   "execution_count": 6,
   "metadata": {
    "dotnet_interactive": {
     "language": "csharp"
    },
    "polyglot_notebook": {
     "kernelName": "csharp"
    },
    "vscode": {
     "languageId": "polyglot-notebook"
    }
   },
   "outputs": [
    {
     "data": {
      "text/html": [
       "<!DOCTYPE html>\r\n",
       "<div style=\"width: 900px; height: 500px;\" id=\"bd8de8c8-69af-4a5f-a3f6-6ad406222d8d\"></div><script type=\"text/javascript\">\r\n",
       "\n",
       "var renderPlotly = function() {\n",
       "    var xplotRequire = require.config({context:'xplot-3.0.1',paths:{plotly:'https://cdn.plot.ly/plotly-1.49.2.min'}}) || require;\n",
       "    xplotRequire(['plotly'], function(Plotly) { \r\n",
       "\n",
       "            var data = [{\"type\":\"scatter\",\"x\":[23520.735910640564,23577.109765166588,23618.82314997704,23640.251201349805,23744.167090109597,23788.726151023428,23840.75106475045,23868.84234787671,23892.989188379546,23990.902498111343,24030.44710137127,24043.447017646387,24055.530588893846,24075.013176102868,24078.60149584231,24227.372193998915,24240.602474882842,24262.91736749827,24270.25231551374,24294.286643565716,24301.048648895772,24305.387394832378,24311.884685195706,24339.65990924386,24352.99255943999,24418.813589017183,269346.92191637564,845703.5693110966,1505584.831541302,1664170.2113924464,1966100.895791654],\"y\":[55.171171056566614,54.00853374704392,54.28051003898058,54.59205932298888,54.385911547743596,54.46534464401141,54.709877424156794,53.465453662035145,54.9138414839706,52.76393271847012,54.72377756283467,53.45240074489373,53.628577041258986,54.33765027233887,55.86905454914704,54.73634080601547,53.791571739777446,53.47758418226371,54.22786197798207,53.08343790614695,54.30746547048112,53.38222017148877,53.78072422887778,54.613227984154406,53.33492851197374,54.32645300679474,59.87977417421001,60.30837284959359,59.92641181596565,60.3714290156861,59.69541430344472],\"mode\":\"markers+lines\",\"name\":\"Baseline - Explored Points\"}];\n",
       "           var layout = {\"title\":\"% Pause Time in GC vs. LOH Limit\",\"xaxis\":{\"title\":\"LOH Limit\",\"_isSubplotObj\":true},\"yaxis\":{\"title\":\"% Pause Time in GC\",\"_isSubplotObj\":true}};\n",
       "           Plotly.newPlot('bd8de8c8-69af-4a5f-a3f6-6ad406222d8d', data, layout);\n",
       "        \r\n",
       "});\n",
       "};\r\n",
       "// ensure `require` is available globally\r\n",
       "if ((typeof(require) !==  typeof(Function)) || (typeof(require.config) !== typeof(Function))) {\r\n",
       "    let require_script = document.createElement('script');\r\n",
       "    require_script.setAttribute('src', 'https://cdnjs.cloudflare.com/ajax/libs/require.js/2.3.6/require.min.js');\r\n",
       "    require_script.setAttribute('type', 'text/javascript');\r\n",
       "    \r\n",
       "    \r\n",
       "    require_script.onload = function() {\r\n",
       "        renderPlotly();\r\n",
       "    };\r\n",
       "\r\n",
       "    document.getElementsByTagName('head')[0].appendChild(require_script);\r\n",
       "}\r\n",
       "else {\r\n",
       "    renderPlotly();\r\n",
       "}\r\n",
       "\r\n",
       "</script>\r\n"
      ]
     },
     "metadata": {},
     "output_type": "display_data"
    }
   ],
   "source": [
    "ChartComplexity(d)"
   ]
  },
  {
   "cell_type": "code",
   "execution_count": 7,
   "metadata": {
    "dotnet_interactive": {
     "language": "csharp"
    },
    "polyglot_notebook": {
     "kernelName": "csharp"
    },
    "vscode": {
     "languageId": "polyglot-notebook"
    }
   },
   "outputs": [
    {
     "data": {
      "text/html": [
       "<div class=\"dni-plaintext\"><pre>[ .//1446237.0.etlx, .//1446242.0.etlx, .//1505584.0.etlx, .//1664170.0.etlx, .//1966100.0.etlx, .//23520.0.etlx, .//23577.0.etlx, .//23618.0.etlx, .//23640.0.etlx, .//23744.0.etlx, .//23788.0.etlx, .//23840.0.etlx, .//23868.0.etlx, .//23892.0.etlx, .//23990.0.etlx, .//24030.0.etlx, .//24043.0.etlx, .//24055.0.etlx, .//24075.0.etlx, .//24078.0.etlx ... (18 more) ]</pre></div><style>\r\n",
       ".dni-code-hint {\r\n",
       "    font-style: italic;\r\n",
       "    overflow: hidden;\r\n",
       "    white-space: nowrap;\r\n",
       "}\r\n",
       ".dni-treeview {\r\n",
       "    white-space: nowrap;\r\n",
       "}\r\n",
       ".dni-treeview td {\r\n",
       "    vertical-align: top;\r\n",
       "    text-align: start;\r\n",
       "}\r\n",
       "details.dni-treeview {\r\n",
       "    padding-left: 1em;\r\n",
       "}\r\n",
       "table td {\r\n",
       "    text-align: start;\r\n",
       "}\r\n",
       "table tr { \r\n",
       "    vertical-align: top; \r\n",
       "    margin: 0em 0px;\r\n",
       "}\r\n",
       "table tr td pre \r\n",
       "{ \r\n",
       "    vertical-align: top !important; \r\n",
       "    margin: 0em 0px !important;\r\n",
       "} \r\n",
       "table th {\r\n",
       "    text-align: start;\r\n",
       "}\r\n",
       "</style>"
      ]
     },
     "metadata": {},
     "output_type": "display_data"
    }
   ],
   "source": [
    "var files = Directory.GetFiles(\".//\", \"*.etlx\");\n",
    "Dictionary<string,TraceLoadedDotNetRuntime> data = new(); \n",
    "\n",
    "Parallel.ForEach(files, (f) => {\n",
    "    lock (data)\n",
    "    {\n",
    "        Etlx.TraceLog traceLog = Etlx.TraceLog.OpenOrConvert(f);\n",
    "        var eventSource = traceLog.Events.GetSource();\n",
    "        eventSource.NeedLoadedDotNetRuntimes();\n",
    "        eventSource.Process();\n",
    "        var processes = eventSource.Processes();\n",
    "\n",
    "        TraceLoadedDotNetRuntime? managedProcess = null;\n",
    "        foreach (var p in processes)\n",
    "        {\n",
    "            managedProcess = p.LoadedDotNetRuntime();\n",
    "            if (!p.Name.Contains(\"GCPerfSim\"))\n",
    "            {\n",
    "                continue;\n",
    "            }\n",
    "\n",
    "            else\n",
    "            {\n",
    "                break;\n",
    "            }\n",
    "        }\n",
    "\n",
    "        data[f] = managedProcess;\n",
    "    }\n",
    "});\n",
    "\n",
    "/*\n",
    "Console.WriteLine(managedProcess.GC.Stats().GetGCPauseTimePercentage());\n",
    "*/\n",
    "files"
   ]
  },
  {
   "cell_type": "code",
   "execution_count": 8,
   "metadata": {
    "dotnet_interactive": {
     "language": "csharp"
    },
    "polyglot_notebook": {
     "kernelName": "csharp"
    },
    "vscode": {
     "languageId": "polyglot-notebook"
    }
   },
   "outputs": [
    {
     "data": {
      "text/html": [
       "<div class=\"dni-plaintext\"><pre>[ .//1446237.0.etlx, .//1446242.0.etlx, .//1505584.0.etlx, .//1664170.0.etlx, .//1966100.0.etlx, .//23520.0.etlx, .//23577.0.etlx, .//23618.0.etlx, .//23640.0.etlx, .//23744.0.etlx, .//23788.0.etlx, .//23840.0.etlx, .//23868.0.etlx, .//23892.0.etlx, .//23990.0.etlx, .//24030.0.etlx, .//24043.0.etlx, .//24055.0.etlx, .//24075.0.etlx, .//24078.0.etlx ... (18 more) ]</pre></div><style>\r\n",
       ".dni-code-hint {\r\n",
       "    font-style: italic;\r\n",
       "    overflow: hidden;\r\n",
       "    white-space: nowrap;\r\n",
       "}\r\n",
       ".dni-treeview {\r\n",
       "    white-space: nowrap;\r\n",
       "}\r\n",
       ".dni-treeview td {\r\n",
       "    vertical-align: top;\r\n",
       "    text-align: start;\r\n",
       "}\r\n",
       "details.dni-treeview {\r\n",
       "    padding-left: 1em;\r\n",
       "}\r\n",
       "table td {\r\n",
       "    text-align: start;\r\n",
       "}\r\n",
       "table tr { \r\n",
       "    vertical-align: top; \r\n",
       "    margin: 0em 0px;\r\n",
       "}\r\n",
       "table tr td pre \r\n",
       "{ \r\n",
       "    vertical-align: top !important; \r\n",
       "    margin: 0em 0px !important;\r\n",
       "} \r\n",
       "table th {\r\n",
       "    text-align: start;\r\n",
       "}\r\n",
       "</style>"
      ]
     },
     "metadata": {},
     "output_type": "display_data"
    }
   ],
   "source": [
    "files"
   ]
  },
  {
   "cell_type": "code",
   "execution_count": 10,
   "metadata": {
    "dotnet_interactive": {
     "language": "csharp"
    },
    "polyglot_notebook": {
     "kernelName": "csharp"
    },
    "vscode": {
     "languageId": "polyglot-notebook"
    }
   },
   "outputs": [
    {
     "data": {
      "text/html": [
       "<table><thead><tr><th><i>index</i></th><th>value</th></tr></thead><tbody><tr><td>0</td><td><details class=\"dni-treeview\"><summary><span class=\"dni-code-hint\"><code>(70392.5884, 1446237)</code></span></summary><div><table><thead><tr></tr></thead><tbody><tr><td>Item1</td><td><div class=\"dni-plaintext\"><pre>70392.5884</pre></div></td></tr><tr><td>Item2</td><td><div class=\"dni-plaintext\"><pre>1446237</pre></div></td></tr></tbody></table></div></details></td></tr><tr><td>1</td><td><details class=\"dni-treeview\"><summary><span class=\"dni-code-hint\"><code>(70778.5166, 1446242)</code></span></summary><div><table><thead><tr></tr></thead><tbody><tr><td>Item1</td><td><div class=\"dni-plaintext\"><pre>70778.5166</pre></div></td></tr><tr><td>Item2</td><td><div class=\"dni-plaintext\"><pre>1446242</pre></div></td></tr></tbody></table></div></details></td></tr><tr><td>2</td><td><details class=\"dni-treeview\"><summary><span class=\"dni-code-hint\"><code>(70832.3499, 1505584)</code></span></summary><div><table><thead><tr></tr></thead><tbody><tr><td>Item1</td><td><div class=\"dni-plaintext\"><pre>70832.3499</pre></div></td></tr><tr><td>Item2</td><td><div class=\"dni-plaintext\"><pre>1505584</pre></div></td></tr></tbody></table></div></details></td></tr><tr><td>3</td><td><details class=\"dni-treeview\"><summary><span class=\"dni-code-hint\"><code>(83789.8381, 23990)</code></span></summary><div><table><thead><tr></tr></thead><tbody><tr><td>Item1</td><td><div class=\"dni-plaintext\"><pre>83789.8381</pre></div></td></tr><tr><td>Item2</td><td><div class=\"dni-plaintext\"><pre>23990</pre></div></td></tr></tbody></table></div></details></td></tr><tr><td>4</td><td><details class=\"dni-treeview\"><summary><span class=\"dni-code-hint\"><code>(69631.16209999999, 1664170)</code></span></summary><div><table><thead><tr></tr></thead><tbody><tr><td>Item1</td><td><div class=\"dni-plaintext\"><pre>69631.16209999999</pre></div></td></tr><tr><td>Item2</td><td><div class=\"dni-plaintext\"><pre>1664170</pre></div></td></tr></tbody></table></div></details></td></tr><tr><td>5</td><td><details class=\"dni-treeview\"><summary><span class=\"dni-code-hint\"><code>(70590.8854, 1966100)</code></span></summary><div><table><thead><tr></tr></thead><tbody><tr><td>Item1</td><td><div class=\"dni-plaintext\"><pre>70590.8854</pre></div></td></tr><tr><td>Item2</td><td><div class=\"dni-plaintext\"><pre>1966100</pre></div></td></tr></tbody></table></div></details></td></tr><tr><td>6</td><td><details class=\"dni-treeview\"><summary><span class=\"dni-code-hint\"><code>(79803.58230000001, 23520)</code></span></summary><div><table><thead><tr></tr></thead><tbody><tr><td>Item1</td><td><div class=\"dni-plaintext\"><pre>79803.58230000001</pre></div></td></tr><tr><td>Item2</td><td><div class=\"dni-plaintext\"><pre>23520</pre></div></td></tr></tbody></table></div></details></td></tr><tr><td>7</td><td><details class=\"dni-treeview\"><summary><span class=\"dni-code-hint\"><code>(85278.0609, 23577)</code></span></summary><div><table><thead><tr></tr></thead><tbody><tr><td>Item1</td><td><div class=\"dni-plaintext\"><pre>85278.0609</pre></div></td></tr><tr><td>Item2</td><td><div class=\"dni-plaintext\"><pre>23577</pre></div></td></tr></tbody></table></div></details></td></tr><tr><td>8</td><td><details class=\"dni-treeview\"><summary><span class=\"dni-code-hint\"><code>(81575.6865, 23618)</code></span></summary><div><table><thead><tr></tr></thead><tbody><tr><td>Item1</td><td><div class=\"dni-plaintext\"><pre>81575.6865</pre></div></td></tr><tr><td>Item2</td><td><div class=\"dni-plaintext\"><pre>23618</pre></div></td></tr></tbody></table></div></details></td></tr><tr><td>9</td><td><details class=\"dni-treeview\"><summary><span class=\"dni-code-hint\"><code>(81126.4857, 23640)</code></span></summary><div><table><thead><tr></tr></thead><tbody><tr><td>Item1</td><td><div class=\"dni-plaintext\"><pre>81126.4857</pre></div></td></tr><tr><td>Item2</td><td><div class=\"dni-plaintext\"><pre>23640</pre></div></td></tr></tbody></table></div></details></td></tr><tr><td>10</td><td><details class=\"dni-treeview\"><summary><span class=\"dni-code-hint\"><code>(81229.95629999999, 24030)</code></span></summary><div><table><thead><tr></tr></thead><tbody><tr><td>Item1</td><td><div class=\"dni-plaintext\"><pre>81229.95629999999</pre></div></td></tr><tr><td>Item2</td><td><div class=\"dni-plaintext\"><pre>24030</pre></div></td></tr></tbody></table></div></details></td></tr><tr><td>11</td><td><details class=\"dni-treeview\"><summary><span class=\"dni-code-hint\"><code>(81623.29680000001, 23744)</code></span></summary><div><table><thead><tr></tr></thead><tbody><tr><td>Item1</td><td><div class=\"dni-plaintext\"><pre>81623.29680000001</pre></div></td></tr><tr><td>Item2</td><td><div class=\"dni-plaintext\"><pre>23744</pre></div></td></tr></tbody></table></div></details></td></tr><tr><td>12</td><td><details class=\"dni-treeview\"><summary><span class=\"dni-code-hint\"><code>(81214.49829999999, 23788)</code></span></summary><div><table><thead><tr></tr></thead><tbody><tr><td>Item1</td><td><div class=\"dni-plaintext\"><pre>81214.49829999999</pre></div></td></tr><tr><td>Item2</td><td><div class=\"dni-plaintext\"><pre>23788</pre></div></td></tr></tbody></table></div></details></td></tr><tr><td>13</td><td><details class=\"dni-treeview\"><summary><span class=\"dni-code-hint\"><code>(80826.9623, 23840)</code></span></summary><div><table><thead><tr></tr></thead><tbody><tr><td>Item1</td><td><div class=\"dni-plaintext\"><pre>80826.9623</pre></div></td></tr><tr><td>Item2</td><td><div class=\"dni-plaintext\"><pre>23840</pre></div></td></tr></tbody></table></div></details></td></tr><tr><td>14</td><td><details class=\"dni-treeview\"><summary><span class=\"dni-code-hint\"><code>(82796.4585, 24043)</code></span></summary><div><table><thead><tr></tr></thead><tbody><tr><td>Item1</td><td><div class=\"dni-plaintext\"><pre>82796.4585</pre></div></td></tr><tr><td>Item2</td><td><div class=\"dni-plaintext\"><pre>24043</pre></div></td></tr></tbody></table></div></details></td></tr><tr><td>15</td><td><details class=\"dni-treeview\"><summary><span class=\"dni-code-hint\"><code>(82687.7194, 23868)</code></span></summary><div><table><thead><tr></tr></thead><tbody><tr><td>Item1</td><td><div class=\"dni-plaintext\"><pre>82687.7194</pre></div></td></tr><tr><td>Item2</td><td><div class=\"dni-plaintext\"><pre>23868</pre></div></td></tr></tbody></table></div></details></td></tr><tr><td>16</td><td><details class=\"dni-treeview\"><summary><span class=\"dni-code-hint\"><code>(81106.84610000001, 23892)</code></span></summary><div><table><thead><tr></tr></thead><tbody><tr><td>Item1</td><td><div class=\"dni-plaintext\"><pre>81106.84610000001</pre></div></td></tr><tr><td>Item2</td><td><div class=\"dni-plaintext\"><pre>23892</pre></div></td></tr></tbody></table></div></details></td></tr><tr><td>17</td><td><details class=\"dni-treeview\"><summary><span class=\"dni-code-hint\"><code>(82905.0194, 24055)</code></span></summary><div><table><thead><tr></tr></thead><tbody><tr><td>Item1</td><td><div class=\"dni-plaintext\"><pre>82905.0194</pre></div></td></tr><tr><td>Item2</td><td><div class=\"dni-plaintext\"><pre>24055</pre></div></td></tr></tbody></table></div></details></td></tr><tr><td>18</td><td><details class=\"dni-treeview\"><summary><span class=\"dni-code-hint\"><code>(80985.547, 24075)</code></span></summary><div><table><thead><tr></tr></thead><tbody><tr><td>Item1</td><td><div class=\"dni-plaintext\"><pre>80985.547</pre></div></td></tr><tr><td>Item2</td><td><div class=\"dni-plaintext\"><pre>24075</pre></div></td></tr></tbody></table></div></details></td></tr><tr><td>19</td><td><details class=\"dni-treeview\"><summary><span class=\"dni-code-hint\"><code>(79220.32519999999, 24078)</code></span></summary><div><table><thead><tr></tr></thead><tbody><tr><td>Item1</td><td><div class=\"dni-plaintext\"><pre>79220.32519999999</pre></div></td></tr><tr><td>Item2</td><td><div class=\"dni-plaintext\"><pre>24078</pre></div></td></tr></tbody></table></div></details></td></tr><tr><td colspan=\"2\"><i>... (more)</i></td></tr></tbody></table><style>\r\n",
       ".dni-code-hint {\r\n",
       "    font-style: italic;\r\n",
       "    overflow: hidden;\r\n",
       "    white-space: nowrap;\r\n",
       "}\r\n",
       ".dni-treeview {\r\n",
       "    white-space: nowrap;\r\n",
       "}\r\n",
       ".dni-treeview td {\r\n",
       "    vertical-align: top;\r\n",
       "    text-align: start;\r\n",
       "}\r\n",
       "details.dni-treeview {\r\n",
       "    padding-left: 1em;\r\n",
       "}\r\n",
       "table td {\r\n",
       "    text-align: start;\r\n",
       "}\r\n",
       "table tr { \r\n",
       "    vertical-align: top; \r\n",
       "    margin: 0em 0px;\r\n",
       "}\r\n",
       "table tr td pre \r\n",
       "{ \r\n",
       "    vertical-align: top !important; \r\n",
       "    margin: 0em 0px !important;\r\n",
       "} \r\n",
       "table th {\r\n",
       "    text-align: start;\r\n",
       "}\r\n",
       "</style>"
      ]
     },
     "metadata": {},
     "output_type": "display_data"
    },
    {
     "data": {
      "text/html": [
       "<!DOCTYPE html>\r\n",
       "<div style=\"width: 900px; height: 500px;\" id=\"86dbf9c4-f27e-4c6a-acdb-2b003d82179a\"></div><script type=\"text/javascript\">\r\n",
       "\n",
       "var renderPlotly = function() {\n",
       "    var xplotRequire = require.config({context:'xplot-3.0.1',paths:{plotly:'https://cdn.plot.ly/plotly-1.49.2.min'}}) || require;\n",
       "    xplotRequire(['plotly'], function(Plotly) { \r\n",
       "\n",
       "            var data = [{\"type\":\"scatter\",\"x\":[23520.0,23577.0,23618.0,23640.0,23744.0,23788.0,23840.0,23868.0,23892.0,23990.0,24030.0,24043.0,24055.0,24075.0,24078.0,24227.0,24240.0,24262.0,24270.0,24294.0,24301.0,24305.0,24311.0,24339.0,24352.0,24383.0,24418.0,24633.0,25331.0,25334.0,25339.0,269346.0,845703.0,1446237.0,1446242.0,1505584.0,1664170.0,1966100.0],\"y\":[79803.58230000001,85278.0609,81575.6865,81126.4857,81623.29680000001,81214.49829999999,80826.9623,82687.7194,81106.84610000001,83789.8381,81229.95629999999,82796.4585,82905.0194,80985.547,79220.32519999999,81273.4431,81626.7227,83761.9565,82164.41709999999,84205.1236,81105.80859999999,83269.6929,82538.8738,80938.30529999999,83874.4096,81522.6955,81895.2071,83653.0717,81106.8967,83627.2841,81805.5903,70721.8432,69772.22549999999,70392.5884,70778.5166,70832.3499,69631.16209999999,70590.8854],\"mode\":\"markers+lines\",\"name\":\"Baseline - Explored Points\"}];\n",
       "           var layout = {\"title\":\"Memory  vs. LOH Limit\",\"xaxis\":{\"title\":\"LOH Limit\",\"_isSubplotObj\":true},\"yaxis\":{\"title\":\"Memory MB\",\"_isSubplotObj\":true}};\n",
       "           Plotly.newPlot('86dbf9c4-f27e-4c6a-acdb-2b003d82179a', data, layout);\n",
       "        \r\n",
       "});\n",
       "};\r\n",
       "// ensure `require` is available globally\r\n",
       "if ((typeof(require) !==  typeof(Function)) || (typeof(require.config) !== typeof(Function))) {\r\n",
       "    let require_script = document.createElement('script');\r\n",
       "    require_script.setAttribute('src', 'https://cdnjs.cloudflare.com/ajax/libs/require.js/2.3.6/require.min.js');\r\n",
       "    require_script.setAttribute('type', 'text/javascript');\r\n",
       "    \r\n",
       "    \r\n",
       "    require_script.onload = function() {\r\n",
       "        renderPlotly();\r\n",
       "    };\r\n",
       "\r\n",
       "    document.getElementsByTagName('head')[0].appendChild(require_script);\r\n",
       "}\r\n",
       "else {\r\n",
       "    renderPlotly();\r\n",
       "}\r\n",
       "\r\n",
       "</script>\r\n"
      ]
     },
     "metadata": {},
     "output_type": "display_data"
    }
   ],
   "source": [
    "var d2 = data.Select(gc => (gc.Value.GC.Stats().ProcessDuration, Convert.ToDouble(gc.Key.Split(\".etl\").First().Replace(\".//\", \"\"))  ));\n",
    "d2.Display();\n",
    "\n",
    "void ChartComplexity(IEnumerable<(double, double)> data)\n",
    "{\n",
    "    var ordered = data.OrderBy(gc => gc.Item2);\n",
    "    var layout = new Layout.Layout\n",
    "    {\n",
    "        xaxis = new Xaxis { title = \"LOH Limit\" },\n",
    "        yaxis = new Yaxis { title = $\"Process Duration (MSec)\" },\n",
    "        title = $\"Process Duration vs. LOH Limit\", \n",
    "    };\n",
    "\n",
    "    var scatter = new Scatter\n",
    "    {\n",
    "        x = ordered.Select(y => (y.Item2)), \n",
    "        y = ordered.Select(y => y.Item1), \n",
    "        mode = \"markers+lines\",\n",
    "        name = \"Baseline - Explored Points\"\n",
    "    };\n",
    "\n",
    "    Chart.Plot(new [] { scatter }, layout).Display();\n",
    "}\n",
    "\n",
    "ChartComplexity(d2)"
   ]
  },
  {
   "cell_type": "code",
   "execution_count": 13,
   "metadata": {
    "dotnet_interactive": {
     "language": "csharp"
    },
    "polyglot_notebook": {
     "kernelName": "csharp"
    },
    "vscode": {
     "languageId": "polyglot-notebook"
    }
   },
   "outputs": [
    {
     "data": {
      "text/html": [
       "<div class=\"dni-plaintext\"><pre>45328</pre></div><style>\r\n",
       ".dni-code-hint {\r\n",
       "    font-style: italic;\r\n",
       "    overflow: hidden;\r\n",
       "    white-space: nowrap;\r\n",
       "}\r\n",
       ".dni-treeview {\r\n",
       "    white-space: nowrap;\r\n",
       "}\r\n",
       ".dni-treeview td {\r\n",
       "    vertical-align: top;\r\n",
       "    text-align: start;\r\n",
       "}\r\n",
       "details.dni-treeview {\r\n",
       "    padding-left: 1em;\r\n",
       "}\r\n",
       "table td {\r\n",
       "    text-align: start;\r\n",
       "}\r\n",
       "table tr { \r\n",
       "    vertical-align: top; \r\n",
       "    margin: 0em 0px;\r\n",
       "}\r\n",
       "table tr td pre \r\n",
       "{ \r\n",
       "    vertical-align: top !important; \r\n",
       "    margin: 0em 0px !important;\r\n",
       "} \r\n",
       "table th {\r\n",
       "    text-align: start;\r\n",
       "}\r\n",
       "</style>"
      ]
     },
     "metadata": {},
     "output_type": "display_data"
    },
    {
     "data": {
      "text/html": [
       "<table><tbody><tr><td><img src=\"data:image/png;base64, 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\" width=\"125em\"></img></td><td style=\"line-height:.8em\"><p style=\"font-size:1.5em\"><b>.NET Interactive</b></p><p>&#169; 2020 Microsoft Corporation</p><p><b>Version: </b>1.0.440301+8915ad98609cad23d5d81765041c2a895afb4782</p><p><b>Library version: </b>1.0.0-beta.23403.1+8915ad98609cad23d5d81765041c2a895afb4782</p><p><b>Build date: </b>2023-08-04T18:25:08.3588636Z</p><p><a href=\"https://github.com/dotnet/interactive\">https://github.com/dotnet/interactive</a></p></td></tr></tbody></table>"
      ]
     },
     "metadata": {},
     "output_type": "display_data"
    }
   ],
   "source": [
    "System.Diagnostics.Process.GetCurrentProcess().Id.Display();\n",
    "\n",
    "#!about"
   ]
  }
 ],
 "metadata": {
  "kernelspec": {
   "display_name": "Python 3",
   "language": "python",
   "name": "python3"
  },
  "language_info": {
   "name": "python",
   "version": "3.7.0"
  },
  "orig_nbformat": 4
 },
 "nbformat": 4,
 "nbformat_minor": 2
}
